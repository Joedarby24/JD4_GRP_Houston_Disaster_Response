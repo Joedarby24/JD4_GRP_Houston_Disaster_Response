{
 "cells": [
  {
   "cell_type": "markdown",
   "metadata": {},
   "source": [
    "# Python-Twitter API\n",
    "\n",
    "This API allows us to input a search query to return tweets (like you would in the search bar on twitter itself)\n",
    "\n",
    "We can then pass in a 'geocode' to search for tweets within a radius of a lat/long"
   ]
  },
  {
   "cell_type": "code",
   "execution_count": 1,
   "metadata": {},
   "outputs": [
    {
     "name": "stdout",
     "output_type": "stream",
     "text": [
      "Collecting python-twitter\n",
      "\u001b[?25l  Downloading https://files.pythonhosted.org/packages/b3/a9/2eb36853d8ca49a70482e2332aa5082e09b3180391671101b1612e3aeaf1/python_twitter-3.5-py2.py3-none-any.whl (67kB)\n",
      "\u001b[K    100% |████████████████████████████████| 71kB 4.5MB/s ta 0:00:01\n",
      "\u001b[?25hRequirement already satisfied: future in /anaconda3/lib/python3.6/site-packages (from python-twitter) (0.17.1)\n",
      "Requirement already satisfied: requests-oauthlib in /anaconda3/lib/python3.6/site-packages (from python-twitter) (1.2.0)\n",
      "Requirement already satisfied: requests in /anaconda3/lib/python3.6/site-packages (from python-twitter) (2.21.0)\n",
      "Requirement already satisfied: oauthlib>=3.0.0 in /anaconda3/lib/python3.6/site-packages (from requests-oauthlib->python-twitter) (3.0.1)\n",
      "Requirement already satisfied: idna<2.9,>=2.5 in /anaconda3/lib/python3.6/site-packages (from requests->python-twitter) (2.8)\n",
      "Requirement already satisfied: chardet<3.1.0,>=3.0.2 in /anaconda3/lib/python3.6/site-packages (from requests->python-twitter) (3.0.4)\n",
      "Requirement already satisfied: urllib3<1.25,>=1.21.1 in /anaconda3/lib/python3.6/site-packages (from requests->python-twitter) (1.24.1)\n",
      "Requirement already satisfied: certifi>=2017.4.17 in /anaconda3/lib/python3.6/site-packages (from requests->python-twitter) (2019.3.9)\n",
      "Installing collected packages: python-twitter\n",
      "Successfully installed python-twitter-3.5\n"
     ]
    }
   ],
   "source": [
    "#!pip install python-twitter"
   ]
  },
  {
   "cell_type": "code",
   "execution_count": 2,
   "metadata": {},
   "outputs": [],
   "source": [
    "import twitter\n",
    "import json\n",
    "\n",
    "import pandas as pd\n",
    "import time"
   ]
  },
  {
   "cell_type": "code",
   "execution_count": 16,
   "metadata": {},
   "outputs": [],
   "source": [
    "api = twitter.Api(consumer_key = 'Nu3roM7Nb9pMxyp1gfQ9DAP8Z',\n",
    "                  consumer_secret = '5fiwdiStdG8rSXCTI6aGUQIbDRkm2ioaDxZGQtPJUuZYO6voqE',\n",
    "                  access_token_key = '325714999-uGibrBLDPcbOPlUU0kky5A7q8JVyZBNFuNIi1sem',\n",
    "                  access_token_secret = 'v4evcFULPgfqCRX0DMd9ZBwimIf8pHkHnyJhDGQObsAe8')"
   ]
  },
  {
   "cell_type": "code",
   "execution_count": 17,
   "metadata": {},
   "outputs": [],
   "source": [
    "results_hawaii = api.GetSearch(\n",
    "    raw_query=\"q=%23hawaii&src=tyah\") # Query goes here"
   ]
  },
  {
   "cell_type": "code",
   "execution_count": 18,
   "metadata": {},
   "outputs": [
    {
     "data": {
      "text/plain": [
       "[Status(ID=1120385963597844480, ScreenName=aarongreenberg, Created=Mon Apr 22 17:56:44 +0000 2019, Text='Excited to announce a brand new collab with @Jumpman23 x @Xbox One X timed with the Jordan Brand Classic! Two lucky… https://t.co/RarmyKK9QS')]"
      ]
     },
     "execution_count": 18,
     "metadata": {},
     "output_type": "execute_result"
    }
   ],
   "source": [
    "api.GetSearch(geocode=(\"19.8968\",\"-155.5828\",\"100mi\"))"
   ]
  },
  {
   "cell_type": "code",
   "execution_count": 20,
   "metadata": {},
   "outputs": [
    {
     "data": {
      "text/plain": [
       "[Status(ID=1120428389507194880, ScreenName=menscave7, Created=Mon Apr 22 20:45:19 +0000 2019, Text='RT @menscave7: Check out NEW VISSLA MENS BOARDSHORTS SURFSHORTS 32 RED follow seller https://t.co/tqlgCOSAEF via @eBay #maui #kona #hawaii…'),\n",
       " Status(ID=1120428388307615745, ScreenName=HIOceanProject, Created=Mon Apr 22 20:45:18 +0000 2019, Text='Partly Cloudy today, with a high of 84F and a low of 70F. #maui #lahaina #hawaii #weather #forecast'),\n",
       " Status(ID=1120428191858995201, ScreenName=menscave7, Created=Mon Apr 22 20:44:32 +0000 2019, Text='RT @menscave7: Check out Ocean Current mens AMPHIBIOUS Stretch Hybrid shorts follow seller https://t.co/rDO86anp5C via @eBay #surfer #surfi…'),\n",
       " Status(ID=1120428062817103872, ScreenName=BigCityDiner, Created=Mon Apr 22 20:44:01 +0000 2019, Text='RT @BCDlane: Order our \"BREAKFAST OF CHAMPIONS\" BL🍅🍅DY MARY\\'S &amp; MIM🍊SA\\'S at @BigCityDiner at @WardVillage @Pearlridge @WindwardMall @Kaimuk…'),\n",
       " Status(ID=1120428035432431623, ScreenName=BigCityDiner, Created=Mon Apr 22 20:43:54 +0000 2019, Text='RT @BCDlane: #ManicMonday M☀️RNING🥞PANCAKES for at @BigCityDiner at @WardVillage @Pearlridge @WindwardMall @Kailua_Ohana @KaimukiHawaii @Wa…'),\n",
       " Status(ID=1120427814149414913, ScreenName=GoodSaltUSA, Created=Mon Apr 22 20:43:02 +0000 2019, Text='***** Review from Buyer - \"Just added to some roasted asparagus... Yum... Great way to get some iodine. Will buy ag… https://t.co/Uo7R7YC5EM'),\n",
       " Status(ID=1120427599216377857, ScreenName=DavTube_Youtube, Created=Mon Apr 22 20:42:10 +0000 2019, Text=\"RT @TheBurrowDen: Is rain bad or good luck? It's a matter of perspective. Happy Earth Day 🌧️🌎💚\\n#EarthDay #tetsuoharanotunnels #h3 #kaneohe…\"),\n",
       " Status(ID=1120427491762503680, ScreenName=alton24, Created=Mon Apr 22 20:41:45 +0000 2019, Text=\"The Pint\\nCan't wait til it comes in this June!!!\\n#OW #onewheelpint #Mauipowerhousegym #24hourfitnessmaui… https://t.co/ncGkIzCe5G\"),\n",
       " Status(ID=1120427303371247622, ScreenName=Ocean_Agency, Created=Mon Apr 22 20:41:00 +0000 2019, Text='Located about 2,600 miles from #Hawaii, #AmericanSamoa National Park is a nearly untouched #tropical paradise, comp… https://t.co/9PBoYYLxbR'),\n",
       " Status(ID=1120427291870470145, ScreenName=StarAdvertiser, Created=Mon Apr 22 20:40:57 +0000 2019, Text=\"Here's @ryankaleitsuji with today's top headlines around #Hawaii. Head to https://t.co/PgkBDQgKzA for more on these… https://t.co/ZMyOyUytXO\"),\n",
       " Status(ID=1120427198421393410, ScreenName=TheBurrowDen, Created=Mon Apr 22 20:40:35 +0000 2019, Text=\"Is rain bad or good luck? It's a matter of perspective. Happy Earth Day 🌧️🌎💚\\n#EarthDay #tetsuoharanotunnels #h3… https://t.co/LSVH3HeqDm\"),\n",
       " Status(ID=1120427168125865988, ScreenName=deescramble, Created=Mon Apr 22 20:40:28 +0000 2019, Text='#hawaii #surfing #family #sunsetbeach @ North Shore, Oahu, Hawaii https://t.co/pexEIDv2Ke'),\n",
       " Status(ID=1120426955818532874, ScreenName=Get__Published, Created=Mon Apr 22 20:39:37 +0000 2019, Text='Happy Monday! #thankful #getpublished #family #ohana #aloha #maui #hawaii #bookpublisher #vacation #kihei… https://t.co/ELI7Z2gpvK'),\n",
       " Status(ID=1120426938831601666, ScreenName=Abfabtravels, Created=Mon Apr 22 20:39:33 +0000 2019, Text='RT @Sostraveluk: @Touchse @monstervoyage @RoadtripC @gasaffan @FolderRed @carpediemeire @travelwithirine @AuraPriiscel @JulesHalvy @LaceDia…'),\n",
       " Status(ID=1120426908699832321, ScreenName=RogueWaveToys, Created=Mon Apr 22 20:39:26 +0000 2019, Text='We did not envy our judges at yesterday’s sandcastle contest! Teams made some amazing art in only 30 min with our… https://t.co/5ggDhjvX82')]"
      ]
     },
     "execution_count": 20,
     "metadata": {},
     "output_type": "execute_result"
    }
   ],
   "source": [
    "[each for each in results_hawaii]"
   ]
  },
  {
   "cell_type": "code",
   "execution_count": null,
   "metadata": {},
   "outputs": [],
   "source": []
  }
 ],
 "metadata": {
  "kernelspec": {
   "display_name": "Python 3",
   "language": "python",
   "name": "python3"
  },
  "language_info": {
   "codemirror_mode": {
    "name": "ipython",
    "version": 3
   },
   "file_extension": ".py",
   "mimetype": "text/x-python",
   "name": "python",
   "nbconvert_exporter": "python",
   "pygments_lexer": "ipython3",
   "version": "3.6.8"
  }
 },
 "nbformat": 4,
 "nbformat_minor": 2
}
